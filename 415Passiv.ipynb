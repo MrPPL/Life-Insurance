{
 "metadata": {
  "language_info": {
   "codemirror_mode": {
    "name": "ipython",
    "version": 3
   },
   "file_extension": ".py",
   "mimetype": "text/x-python",
   "name": "python",
   "nbconvert_exporter": "python",
   "pygments_lexer": "ipython3",
   "version": "3.8.5-final"
  },
  "orig_nbformat": 2,
  "kernelspec": {
   "name": "python3",
   "display_name": "Python 3"
  }
 },
 "nbformat": 4,
 "nbformat_minor": 2,
 "cells": [
  {
   "source": [
    "# Invalide model - 211passiv i liv-død model\n",
    "Forklaring: Grundform 211 er en opsat livrente\\\n",
    "Author:          Peter Pommergård Lind\\\n",
    "Email:           pli@pfa.dk\\\n",
    "Encoding:        utf-8\\\n",
    "CITATIONS: Edlund MVS og PFA Tekniske grundlag 2019"
   ],
   "cell_type": "markdown",
   "metadata": {}
  },
  {
   "source": [
    "###########\n",
    "# Libraries\n",
    "###########\n",
    "import pandas\n",
    "import numpy as np"
   ],
   "cell_type": "code",
   "metadata": {},
   "execution_count": 3,
   "outputs": []
  },
  {
   "cell_type": "code",
   "execution_count": 4,
   "metadata": {},
   "outputs": [],
   "source": [
    "#############\n",
    "## Functions\n",
    "#############\n",
    "# Integration\n",
    "def laplace(a,b,f):\n",
    "  integral = 0\n",
    "  if a==b:\n",
    "    return 0\n",
    "  elif b==(a+1):\n",
    "    integral +=f(a)/2\n",
    "    integral +=f(b)/2\n",
    "  else:\n",
    "    integral +=f(a)/2\n",
    "    integral +=f(b)/2\n",
    "    for i in range(a+1,b):\n",
    "      integral += f(i)\n",
    "  return integral\n",
    "\n",
    "#dødsintensitet\n",
    "def muAd(alder,år):\n",
    "  \"Simple interpolation of muAD by rounding age to nearest int\"\n",
    "  if (alder%1==0):\n",
    "    mu = intensitet[alder] * (1-trend[alder])**(år-2017)\n",
    "  else:\n",
    "    alder = round(alder)\n",
    "    mu = intensitet[alder] * (1-trend[alder])**(år-2017)\n",
    "  return(mu)\n",
    "#invalideintensitet\n",
    "def muAI(alder):\n",
    "    return 0.0004+10**(5.26 + 0.048 * alder -10)"
   ]
  },
  {
   "cell_type": "code",
   "execution_count": 5,
   "metadata": {},
   "outputs": [],
   "source": [
    "############\n",
    "# Parameters\n",
    "###########\n",
    "n = 64 #pensionsalder\n",
    "muData = pandas.read_excel(r'./data/muAD.xlsx')\n",
    "intensitet = muData.Intensitet\n",
    "trend = muData.Forbedring\n",
    "år=2020\n",
    "alder = 39\n",
    "i=0.00"
   ]
  },
  {
   "cell_type": "code",
   "execution_count": 6,
   "metadata": {},
   "outputs": [
    {
     "output_type": "stream",
     "name": "stdout",
     "text": [
      "aktiv uden præmiefritagelse 24.70238518644664\naktiv Med præmiefritagelse 23.33672203962295\nPassiv 415 1.3656631468236924\n"
     ]
    }
   ],
   "source": [
    "################################################\n",
    "# Simpel liv-invaid-død model - 415 passiv med u17 dødeligheder og u10 invalideintensiteter fra PFA tekniske grundlag\n",
    "################################################\n",
    "#####################################\n",
    "# Aktiv uden præmiefritagelse\n",
    "# ####################################  \n",
    "def aktivUPræmie(g,n,år, r):\n",
    "  \"\"\"[Find the expected contributions to \"opsat livrente\"]\n",
    "  Args:\n",
    "      g ([int]): [alder ved beregningsdato]\n",
    "      n ([int]): [sidste udbetalingsdato]\n",
    "      år ([int]): year of udbetalingsstart\n",
    "      r ([float]): [interest rate minus \"sikkerhedstillæg\"]\n",
    "  \"\"\"\n",
    "  def f1(alder):\n",
    "    # Inner integrand\n",
    "    return (r+muAd(alder,år+(alder-g))) \n",
    "  def f2(tau):\n",
    "    #second integrand\n",
    "    return np.exp(-laplace(g,tau,f1))\n",
    "  return laplace(g,n,f2)\n",
    "\n",
    "print(\"aktiv uden præmiefritagelse\", aktivUPræmie(g=39,n=64,år=2020, r=0))\n",
    "  \n",
    "#####################################\n",
    "# Aktiv med præmiefritagelse\n",
    "# ####################################  \n",
    "def aktivMPræmie(g,n,år, r):\n",
    "  \"\"\"[Find the expected contributions to \"opsat livrente\"]\n",
    "  Args:\n",
    "      g ([int]): [alder ved beregningsdato]\n",
    "      n ([int]): [sidste udbetalingsdato]\n",
    "      år ([int]): year of udbetalingsstart\n",
    "      r ([float]): [interest rate minus \"sikkerhedstillæg\"]\n",
    "  \"\"\"\n",
    "  def f1(alder):\n",
    "    # Inner integrand\n",
    "    return (r+muAI(alder) +muAd(alder,år+(alder-g))) \n",
    "  def f2(tau):\n",
    "    #second integrand\n",
    "    return np.exp(-laplace(g,tau,f1))\n",
    "  return laplace(g,n,f2)\n",
    "\n",
    "print(\"aktiv Med præmiefritagelse\", aktivMPræmie(g=39,n=64,år=2020, r=0))\n",
    "\n",
    "#########################################\n",
    "# Passiv 415 - liv-invalid-død model\n",
    "#########################################\n",
    "def passiv415(g,n,år,r):\n",
    "    return aktivUPræmie(g,n,år,r)-aktivMPræmie(g,n,år,r)\n",
    "\n",
    "print(\"Passiv 415\", passiv415(39,64,2020,0))"
   ]
  },
  {
   "cell_type": "code",
   "execution_count": null,
   "metadata": {},
   "outputs": [],
   "source": []
  }
 ]
}