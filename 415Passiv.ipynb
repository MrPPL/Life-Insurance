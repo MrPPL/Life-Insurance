{
 "metadata": {
  "language_info": {
   "codemirror_mode": {
    "name": "ipython",
    "version": 3
   },
   "file_extension": ".py",
   "mimetype": "text/x-python",
   "name": "python",
   "nbconvert_exporter": "python",
   "pygments_lexer": "ipython3",
   "version": "3.8.5-final"
  },
  "orig_nbformat": 2,
  "kernelspec": {
   "name": "python3",
   "display_name": "Python 3"
  }
 },
 "nbformat": 4,
 "nbformat_minor": 2,
 "cells": [
  {
   "source": [
    "# Invalide model - 415passiv i liv-invalid-død model\n",
    "Forklaring: Grundform 415 er en ophørende Invaliderente\\\n",
    "Author:          Peter Pommergård Lind\\\n",
    "Email:           pli@pfa.dk\\\n",
    "Encoding:        utf-8\\\n",
    "CITATIONS: Edlund MVS og PFA Tekniske grundlag 2019"
   ],
   "cell_type": "markdown",
   "metadata": {}
  },
  {
   "source": [
    "###########\n",
    "# Libraries\n",
    "###########\n",
    "import pandas\n",
    "import numpy as np"
   ],
   "cell_type": "code",
   "metadata": {},
   "execution_count": 7,
   "outputs": []
  },
  {
   "cell_type": "code",
   "execution_count": 8,
   "metadata": {},
   "outputs": [],
   "source": [
    "#############\n",
    "## Functions\n",
    "#############\n",
    "# Integration\n",
    "def laplace(a,b,f):\n",
    "  integral = 0\n",
    "  if a==b:\n",
    "    return 0\n",
    "  elif b==(a+1):\n",
    "    integral +=f(a)/2\n",
    "    integral +=f(b)/2\n",
    "  else:\n",
    "    integral +=f(a)/2\n",
    "    integral +=f(b)/2\n",
    "    for i in range(a+1,b):\n",
    "      integral += f(i)\n",
    "  return integral\n",
    "\n",
    "#dødsintensitet\n",
    "def muAd(alder,år):\n",
    "  \"Simple interpolation of muAD by rounding age to nearest int\"\n",
    "  if (alder%1==0):\n",
    "    mu = intensitet[alder] * (1-trend[alder])**(år-2017)\n",
    "  else:\n",
    "    alder = round(alder)\n",
    "    mu = intensitet[alder] * (1-trend[alder])**(år-2017)\n",
    "  return(mu)\n",
    "#invalideintensitet\n",
    "def muAI(alder):\n",
    "    return 0.0004+10**(5.26 + 0.048 * alder -10)"
   ]
  },
  {
   "cell_type": "code",
   "execution_count": 9,
   "metadata": {},
   "outputs": [],
   "source": [
    "############\n",
    "# Parameters\n",
    "###########\n",
    "n = 64 #pensionsalder\n",
    "muData = pandas.read_excel(r'./data/muAD.xlsx')\n",
    "intensitet = muData.Intensitet\n",
    "trend = muData.Forbedring\n",
    "år=2020\n",
    "alder = 39\n",
    "i=0.00"
   ]
  },
  {
   "source": [
    "# Simpel liv-invaid-død model\n",
    "415 passiv med u17 dødeligheder og u10 invalideintensiteter fra PFA tekniske grundlag. Passiv 415 regnes som aktiv uden præmiefritagelse fratrukket aktiv med præmiefritagelse:\n",
    "$$Passiv415=aktivUPræmie - aktivMPræmie$$"
   ],
   "cell_type": "markdown",
   "metadata": {}
  },
  {
   "source": [
    "## Aktiv uden præmiefritagelse (aktivUPræmie)\n",
    "Vi antager personen er født 1/1/1981 og har pensionsalder 64. Derudover er beregningstidspunktet den 1/1/2020.\\\n",
    "$$ V(t)=\\int_t^{64}\\exp(-\\int_t^s r+\\mu d\\tau) ds $$"
   ],
   "cell_type": "markdown",
   "metadata": {}
  },
  {
   "cell_type": "code",
   "execution_count": 2,
   "metadata": {},
   "outputs": [
    {
     "output_type": "error",
     "ename": "NameError",
     "evalue": "name 'laplace' is not defined",
     "traceback": [
      "\u001b[1;31m---------------------------------------------------------------------------\u001b[0m",
      "\u001b[1;31mNameError\u001b[0m                                 Traceback (most recent call last)",
      "\u001b[1;32m<ipython-input-2-5ffa3a1bc306>\u001b[0m in \u001b[0;36m<module>\u001b[1;34m\u001b[0m\n\u001b[0;32m     15\u001b[0m   \u001b[1;32mreturn\u001b[0m \u001b[0mlaplace\u001b[0m\u001b[1;33m(\u001b[0m\u001b[0mg\u001b[0m\u001b[1;33m,\u001b[0m\u001b[0mn\u001b[0m\u001b[1;33m,\u001b[0m\u001b[0mf2\u001b[0m\u001b[1;33m)\u001b[0m\u001b[1;33m\u001b[0m\u001b[1;33m\u001b[0m\u001b[0m\n\u001b[0;32m     16\u001b[0m \u001b[1;33m\u001b[0m\u001b[0m\n\u001b[1;32m---> 17\u001b[1;33m \u001b[0mprint\u001b[0m\u001b[1;33m(\u001b[0m\u001b[1;34m\"aktiv uden præmiefritagelse\"\u001b[0m\u001b[1;33m,\u001b[0m \u001b[0maktivUPræmie\u001b[0m\u001b[1;33m(\u001b[0m\u001b[0mg\u001b[0m\u001b[1;33m=\u001b[0m\u001b[1;36m39\u001b[0m\u001b[1;33m,\u001b[0m\u001b[0mn\u001b[0m\u001b[1;33m=\u001b[0m\u001b[1;36m64\u001b[0m\u001b[1;33m,\u001b[0m\u001b[0mår\u001b[0m\u001b[1;33m=\u001b[0m\u001b[1;36m2020\u001b[0m\u001b[1;33m,\u001b[0m \u001b[0mr\u001b[0m\u001b[1;33m=\u001b[0m\u001b[1;36m0\u001b[0m\u001b[1;33m)\u001b[0m\u001b[1;33m)\u001b[0m\u001b[1;33m\u001b[0m\u001b[1;33m\u001b[0m\u001b[0m\n\u001b[0m",
      "\u001b[1;32m<ipython-input-2-5ffa3a1bc306>\u001b[0m in \u001b[0;36maktivUPræmie\u001b[1;34m(g, n, år, r)\u001b[0m\n\u001b[0;32m     13\u001b[0m     \u001b[1;31m#second integrand\u001b[0m\u001b[1;33m\u001b[0m\u001b[1;33m\u001b[0m\u001b[1;33m\u001b[0m\u001b[0m\n\u001b[0;32m     14\u001b[0m     \u001b[1;32mreturn\u001b[0m \u001b[0mnp\u001b[0m\u001b[1;33m.\u001b[0m\u001b[0mexp\u001b[0m\u001b[1;33m(\u001b[0m\u001b[1;33m-\u001b[0m\u001b[0mlaplace\u001b[0m\u001b[1;33m(\u001b[0m\u001b[0mg\u001b[0m\u001b[1;33m,\u001b[0m\u001b[0mtau\u001b[0m\u001b[1;33m,\u001b[0m\u001b[0mf1\u001b[0m\u001b[1;33m)\u001b[0m\u001b[1;33m)\u001b[0m\u001b[1;33m\u001b[0m\u001b[1;33m\u001b[0m\u001b[0m\n\u001b[1;32m---> 15\u001b[1;33m   \u001b[1;32mreturn\u001b[0m \u001b[0mlaplace\u001b[0m\u001b[1;33m(\u001b[0m\u001b[0mg\u001b[0m\u001b[1;33m,\u001b[0m\u001b[0mn\u001b[0m\u001b[1;33m,\u001b[0m\u001b[0mf2\u001b[0m\u001b[1;33m)\u001b[0m\u001b[1;33m\u001b[0m\u001b[1;33m\u001b[0m\u001b[0m\n\u001b[0m\u001b[0;32m     16\u001b[0m \u001b[1;33m\u001b[0m\u001b[0m\n\u001b[0;32m     17\u001b[0m \u001b[0mprint\u001b[0m\u001b[1;33m(\u001b[0m\u001b[1;34m\"aktiv uden præmiefritagelse\"\u001b[0m\u001b[1;33m,\u001b[0m \u001b[0maktivUPræmie\u001b[0m\u001b[1;33m(\u001b[0m\u001b[0mg\u001b[0m\u001b[1;33m=\u001b[0m\u001b[1;36m39\u001b[0m\u001b[1;33m,\u001b[0m\u001b[0mn\u001b[0m\u001b[1;33m=\u001b[0m\u001b[1;36m64\u001b[0m\u001b[1;33m,\u001b[0m\u001b[0mår\u001b[0m\u001b[1;33m=\u001b[0m\u001b[1;36m2020\u001b[0m\u001b[1;33m,\u001b[0m \u001b[0mr\u001b[0m\u001b[1;33m=\u001b[0m\u001b[1;36m0\u001b[0m\u001b[1;33m)\u001b[0m\u001b[1;33m)\u001b[0m\u001b[1;33m\u001b[0m\u001b[1;33m\u001b[0m\u001b[0m\n",
      "\u001b[1;31mNameError\u001b[0m: name 'laplace' is not defined"
     ]
    }
   ],
   "source": [
    "def aktivUPræmie(g,n,år, r):\n",
    "  \"\"\"[Find the expected contributions to \"opsat livrente\"]\n",
    "  Args:\n",
    "      g ([int]): [alder ved beregningsdato]\n",
    "      n ([int]): [sidste udbetalingsdato]\n",
    "      år ([int]): year of udbetalingsstart\n",
    "      r ([float]): [interest rate minus \"sikkerhedstillæg\"]\n",
    "  \"\"\"\n",
    "  def f1(alder):\n",
    "    # Inner integrand\n",
    "    return (r+muAd(alder,år+(alder-g))) \n",
    "  def f2(tau):\n",
    "    #second integrand\n",
    "    return np.exp(-laplace(g,tau,f1))\n",
    "  return laplace(g,n,f2)\n",
    "\n",
    "print(\"aktiv uden præmiefritagelse\", aktivUPræmie(g=39,n=64,år=2020, r=0))"
   ]
  },
  {
   "source": [
    "## Aktiv med præmiefritagelse (aktivMPræmie)\n",
    "Vi antager personen er født 1/1/1981 og har pensionsalder 64. Derudover er beregningstidspunktet den 1/1/2020.\\\n",
    "$$ V(t)=\\int_t^{64}\\exp(-\\int_t^s r+\\mu+ \\nu d\\tau) ds $$"
   ],
   "cell_type": "markdown",
   "metadata": {}
  },
  {
   "cell_type": "code",
   "execution_count": 10,
   "metadata": {},
   "outputs": [
    {
     "output_type": "stream",
     "name": "stdout",
     "text": [
      "aktiv uden præmiefritagelse 24.70238518644664\naktiv Med præmiefritagelse 23.33672203962295\nPassiv 415 1.3656631468236924\n"
     ]
    }
   ],
   "source": [
    "def aktivMPræmie(g,n,år, r):\n",
    "  \"\"\"[Find the expected contributions to \"opsat livrente\"]\n",
    "  Args:\n",
    "      g ([int]): [alder ved beregningsdato]\n",
    "      n ([int]): [sidste udbetalingsdato]\n",
    "      år ([int]): year of udbetalingsstart\n",
    "      r ([float]): [interest rate minus \"sikkerhedstillæg\"]\n",
    "  \"\"\"\n",
    "  def f1(alder):\n",
    "    # Inner integrand\n",
    "    return (r+muAI(alder) +muAd(alder,år+(alder-g))) \n",
    "  def f2(tau):\n",
    "    #second integrand\n",
    "    return np.exp(-laplace(g,tau,f1))\n",
    "  return laplace(g,n,f2)\n",
    "\n",
    "print(\"aktiv Med præmiefritagelse\", aktivMPræmie(g=39,n=64,år=2020, r=0))"
   ]
  },
  {
   "source": [
    "# Passiv415"
   ],
   "cell_type": "markdown",
   "metadata": {}
  },
  {
   "cell_type": "code",
   "execution_count": 1,
   "metadata": {},
   "outputs": [
    {
     "output_type": "error",
     "ename": "NameError",
     "evalue": "name 'aktivUPræmie' is not defined",
     "traceback": [
      "\u001b[1;31m---------------------------------------------------------------------------\u001b[0m",
      "\u001b[1;31mNameError\u001b[0m                                 Traceback (most recent call last)",
      "\u001b[1;32m<ipython-input-1-6e8ec7b956bd>\u001b[0m in \u001b[0;36m<module>\u001b[1;34m\u001b[0m\n\u001b[0;32m      2\u001b[0m     \u001b[1;32mreturn\u001b[0m \u001b[0maktivUPræmie\u001b[0m\u001b[1;33m(\u001b[0m\u001b[0mg\u001b[0m\u001b[1;33m,\u001b[0m\u001b[0mn\u001b[0m\u001b[1;33m,\u001b[0m\u001b[0mår\u001b[0m\u001b[1;33m,\u001b[0m\u001b[0mr\u001b[0m\u001b[1;33m)\u001b[0m\u001b[1;33m-\u001b[0m\u001b[0maktivMPræmie\u001b[0m\u001b[1;33m(\u001b[0m\u001b[0mg\u001b[0m\u001b[1;33m,\u001b[0m\u001b[0mn\u001b[0m\u001b[1;33m,\u001b[0m\u001b[0mår\u001b[0m\u001b[1;33m,\u001b[0m\u001b[0mr\u001b[0m\u001b[1;33m)\u001b[0m\u001b[1;33m\u001b[0m\u001b[1;33m\u001b[0m\u001b[0m\n\u001b[0;32m      3\u001b[0m \u001b[1;33m\u001b[0m\u001b[0m\n\u001b[1;32m----> 4\u001b[1;33m \u001b[0mprint\u001b[0m\u001b[1;33m(\u001b[0m\u001b[1;34m\"Passiv 415\"\u001b[0m\u001b[1;33m,\u001b[0m \u001b[0mpassiv415\u001b[0m\u001b[1;33m(\u001b[0m\u001b[1;36m39\u001b[0m\u001b[1;33m,\u001b[0m\u001b[1;36m64\u001b[0m\u001b[1;33m,\u001b[0m\u001b[1;36m2020\u001b[0m\u001b[1;33m,\u001b[0m\u001b[1;36m0\u001b[0m\u001b[1;33m)\u001b[0m\u001b[1;33m)\u001b[0m\u001b[1;33m\u001b[0m\u001b[1;33m\u001b[0m\u001b[0m\n\u001b[0m",
      "\u001b[1;32m<ipython-input-1-6e8ec7b956bd>\u001b[0m in \u001b[0;36mpassiv415\u001b[1;34m(g, n, år, r)\u001b[0m\n\u001b[0;32m      1\u001b[0m \u001b[1;32mdef\u001b[0m \u001b[0mpassiv415\u001b[0m\u001b[1;33m(\u001b[0m\u001b[0mg\u001b[0m\u001b[1;33m,\u001b[0m\u001b[0mn\u001b[0m\u001b[1;33m,\u001b[0m\u001b[0mår\u001b[0m\u001b[1;33m,\u001b[0m\u001b[0mr\u001b[0m\u001b[1;33m)\u001b[0m\u001b[1;33m:\u001b[0m\u001b[1;33m\u001b[0m\u001b[1;33m\u001b[0m\u001b[0m\n\u001b[1;32m----> 2\u001b[1;33m     \u001b[1;32mreturn\u001b[0m \u001b[0maktivUPræmie\u001b[0m\u001b[1;33m(\u001b[0m\u001b[0mg\u001b[0m\u001b[1;33m,\u001b[0m\u001b[0mn\u001b[0m\u001b[1;33m,\u001b[0m\u001b[0mår\u001b[0m\u001b[1;33m,\u001b[0m\u001b[0mr\u001b[0m\u001b[1;33m)\u001b[0m\u001b[1;33m-\u001b[0m\u001b[0maktivMPræmie\u001b[0m\u001b[1;33m(\u001b[0m\u001b[0mg\u001b[0m\u001b[1;33m,\u001b[0m\u001b[0mn\u001b[0m\u001b[1;33m,\u001b[0m\u001b[0mår\u001b[0m\u001b[1;33m,\u001b[0m\u001b[0mr\u001b[0m\u001b[1;33m)\u001b[0m\u001b[1;33m\u001b[0m\u001b[1;33m\u001b[0m\u001b[0m\n\u001b[0m\u001b[0;32m      3\u001b[0m \u001b[1;33m\u001b[0m\u001b[0m\n\u001b[0;32m      4\u001b[0m \u001b[0mprint\u001b[0m\u001b[1;33m(\u001b[0m\u001b[1;34m\"Passiv 415\"\u001b[0m\u001b[1;33m,\u001b[0m \u001b[0mpassiv415\u001b[0m\u001b[1;33m(\u001b[0m\u001b[1;36m39\u001b[0m\u001b[1;33m,\u001b[0m\u001b[1;36m64\u001b[0m\u001b[1;33m,\u001b[0m\u001b[1;36m2020\u001b[0m\u001b[1;33m,\u001b[0m\u001b[1;36m0\u001b[0m\u001b[1;33m)\u001b[0m\u001b[1;33m)\u001b[0m\u001b[1;33m\u001b[0m\u001b[1;33m\u001b[0m\u001b[0m\n",
      "\u001b[1;31mNameError\u001b[0m: name 'aktivUPræmie' is not defined"
     ]
    }
   ],
   "source": [
    "def passiv415(g,n,år,r):\n",
    "    return aktivUPræmie(g,n,år,r)-aktivMPræmie(g,n,år,r)\n",
    "\n",
    "print(\"Passiv 415\", passiv415(39,64,2020,0))"
   ]
  },
  {
   "cell_type": "code",
   "execution_count": null,
   "metadata": {},
   "outputs": [],
   "source": []
  },
  {
   "cell_type": "code",
   "execution_count": null,
   "metadata": {},
   "outputs": [],
   "source": []
  }
 ]
}