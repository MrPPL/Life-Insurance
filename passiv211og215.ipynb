{
 "cells": [
  {
   "source": [
    "# Invalide model - 211passiv i liv-død model\n",
    "Forklaring: Grundform 211 er en opsat livrente\\\n",
    "Author:          Peter Pommergård Lind\\\n",
    "Email:           pli@pfa.dk\\\n",
    "Encoding:        utf-8\\\n",
    "CITATIONS: Edlund MVS og PFA Tekniske grundlag 2019"
   ],
   "cell_type": "markdown",
   "metadata": {}
  },
  {
   "cell_type": "code",
   "execution_count": 3,
   "metadata": {},
   "outputs": [],
   "source": [
    "###########\n",
    "# Libraries\n",
    "###########\n",
    "import pandas\n",
    "import numpy as np"
   ]
  },
  {
   "cell_type": "code",
   "execution_count": 4,
   "metadata": {},
   "outputs": [],
   "source": [
    "#############\n",
    "## Funktioner\n",
    "#############\n",
    "# Integration\n",
    "def laplace(a,b,f):\n",
    "  \"\"\"Simple laplace\"\"\"\n",
    "  integral = 0\n",
    "  if a==b:\n",
    "    return 0\n",
    "  elif b==(a+1):\n",
    "    integral +=f(a)/2\n",
    "    integral +=f(b)/2\n",
    "  else:\n",
    "    integral +=f(a)/2\n",
    "    integral +=f(b)/2\n",
    "    for i in range(a+1,b):\n",
    "      integral += f(i)\n",
    "  return integral\n",
    "# Find dødeligheds intensitet\n",
    "def muAd(alder,år):\n",
    "  \"Simple interpolation of muAD by rounding age to nearest int\"\n",
    "  if (alder%1==0):\n",
    "    mu = intensitet[alder] * (1-trend[alder])**(år-2017)\n",
    "  else:\n",
    "    alder = round(alder)\n",
    "    mu = intensitet[alder] * (1-trend[alder])**(år-2017)\n",
    "  return(mu)\n"
   ]
  },
  {
   "cell_type": "code",
   "execution_count": 5,
   "metadata": {},
   "outputs": [],
   "source": [
    "#hent data\n",
    "muData = pandas.read_excel(r'./data/muAD.xlsx')\n",
    "intensitet = muData.Intensitet\n",
    "trend = muData.Forbedring"
   ]
  },
  {
   "cell_type": "markdown",
   "metadata": {},
   "source": [
    "## Passiv211\n",
    "Vi antager personen er født 1/1/1981 og har pensionsalder 64. Derudover er beregningstidspunktet den 1/1/2020.\\\n",
    "$$V(t)=\\int_t^\\infty\\exp\\bigg(-\\int_t^s r+\\mu(\\tau,x) d\\tau \\bigg) 1_{\\{t+x\\geq 64\\}} ds $$"
   ]
  },
  {
   "cell_type": "code",
   "execution_count": 7,
   "metadata": {},
   "outputs": [
    {
     "output_type": "stream",
     "name": "stdout",
     "text": [
      "Passiv 211:  29.853576061774046\n"
     ]
    }
   ],
   "source": [
    "def passiv211a(tegning, u,n,år, r):\n",
    "    \"\"\"[Find the expected contributions to \"opsat livrente\"]\n",
    "    Args:\n",
    "      tegning ([int]): [alder ved tegningstidspunkt]\n",
    "      u ([int]): [første udbetalingsdato]\n",
    "      n ([int]): [sidste udbetalingsdato]\n",
    "      år ([int]): year of udbetalingsstart\n",
    "      r ([float]): [interest rate minus \"sikkerhedstillæg\"]\n",
    "    \"\"\"\n",
    "    t = u - tegning #lower limit for integral (indicator)\n",
    "    upper = 110-tegning #upper limit for integral\n",
    "    def f1(tau):\n",
    "        # Inner integrand\n",
    "        return (r+muAd(tau+tegning,år+tau))\n",
    "    def f2(s):\n",
    "        #second integrand\n",
    "        return np.exp(-laplace(t,s,f1))\n",
    "    return laplace(t,upper,f2)\n",
    "\n",
    "\n",
    "print(\"Passiv 211: \", passiv211a(tegning=39,n=110, u=64 ,år=2020, r=0))"
   ]
  },
  {
   "cell_type": "markdown",
   "metadata": {},
   "source": [
    "## Aktiv uden præmiefritagelse\n",
    "Vi antager personen er født 1/1/1981 og har pensionsalder 64. Derudover er beregningstidspunktet den 1/1/2020.\\\n",
    "$$ V(t)=\\int_t^{64}\\exp(-\\int_t^s r+\\mu d\\tau) ds $$"
   ]
  },
  {
   "cell_type": "code",
   "execution_count": 8,
   "metadata": {},
   "outputs": [
    {
     "output_type": "stream",
     "name": "stdout",
     "text": [
      "aktiv uden præmiefritagelse 24.70238518644664\n"
     ]
    }
   ],
   "source": [
    "#####################################\n",
    "# Aktiv uden præmiefritagelse\n",
    "# ####################################  \n",
    "def aktivUPræmie(g,n,år, r):\n",
    "  \"\"\"[Find the expected contributions to \"opsat livrente\"]\n",
    "  Args:\n",
    "      g ([int]): [alder ved beregningsdato]\n",
    "      n ([int]): [sidste udbetalingsdato]\n",
    "      år ([int]): year of udbetalingsstart\n",
    "      r ([float]): [interest rate minus \"sikkerhedstillæg\"]\n",
    "  \"\"\"\n",
    "  def f1(alder):\n",
    "    # Inner integrand\n",
    "    return (r+muAd(alder,år+(alder-g))) \n",
    "  def f2(tau):\n",
    "    #second integrand\n",
    "    return np.exp(-laplace(g,tau,f1))\n",
    "  return laplace(g,n,f2)\n",
    "\n",
    "print(\"aktiv uden præmiefritagelse\", aktivUPræmie(g=39,n=64,år=2020, r=0))"
   ]
  },
  {
   "source": [
    "# Simpel liv-død model - 215 passiv med u17 dødeligheder fra PFA tekniske grundlag\n",
    "$$ V(t)=\\int_t^{64}\\exp(-\\int_t^s r(\\tau)+\\mu(\\tau) \\ d\\tau) ds $$\n"
   ],
   "cell_type": "markdown",
   "metadata": {}
  },
  {
   "cell_type": "code",
   "execution_count": null,
   "metadata": {},
   "outputs": [],
   "source": [
    "def passiv215(tegning, u,n,år, r):\n",
    "    \"\"\"[Find the expected contributions to \"opsat livrente\"]\n",
    "    Args:\n",
    "      tegning ([int]): [alder ved tegningstidspunkt]\n",
    "      u ([int]): [første udbetalingsdato]\n",
    "      n ([int]): [sidste udbetalingsdato]\n",
    "      år ([int]): year of udbetalingsstart\n",
    "      r ([float]): [interest rate minus \"sikkerhedstillæg\"]\n",
    "    \"\"\"\n",
    "    t = tegning-u #lower limit for integral (indicator)\n",
    "    upper = n-tegning #upper limit for integral\n",
    "    def f1(tau):\n",
    "        # Inner integrand\n",
    "        return (r+muAd(tau+tegning,år+tau))\n",
    "    def f2(s):\n",
    "        #second integrand\n",
    "        return np.exp(-laplace(t,s,f1))\n",
    "    return laplace(t,upper,f2)\n",
    "\n",
    "\n",
    "print(\"Passiv 215: \", passiv215(tegning=39,u=39, n=64, år=2020, r=0))"
   ]
  }
 ],
 "metadata": {
  "kernelspec": {
   "display_name": "Python 3",
   "language": "python",
   "name": "python3"
  },
  "language_info": {
   "codemirror_mode": {
    "name": "ipython",
    "version": 3
   },
   "file_extension": ".py",
   "mimetype": "text/x-python",
   "name": "python",
   "nbconvert_exporter": "python",
   "pygments_lexer": "ipython3",
   "version": "3.8.5-final"
  }
 },
 "nbformat": 4,
 "nbformat_minor": 4
}