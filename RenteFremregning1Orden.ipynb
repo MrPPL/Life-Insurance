{
 "cells": [
  {
   "cell_type": "markdown",
   "metadata": {},
   "source": [
    "# Regn rente\n",
    "Renteformel, hvor i er årlig rente og r er daglig rente:\\\n",
    "$$r=((1+i)^{\\frac{1}{372}}-1)$$\n",
    "OBS: Vi regner med 31 dage i hver måned."
   ]
  },
  {
   "cell_type": "code",
   "execution_count": 9,
   "metadata": {},
   "outputs": [],
   "source": [
    "#Parameter\n",
    "FørsteOrdenReserve = 267279.3735\n",
    "i=0.05\n",
    "sikkerhedsTillæg=0.005"
   ]
  },
  {
   "cell_type": "code",
   "execution_count": 10,
   "metadata": {},
   "outputs": [
    {
     "name": "stdout",
     "output_type": "stream",
     "text": [
      "0.00013116495666487538\n"
     ]
    }
   ],
   "source": [
    "#daglig rente\n",
    "r = ((1+i)**(1/372)-1)\n",
    "print(r)"
   ]
  },
  {
   "cell_type": "code",
   "execution_count": 11,
   "metadata": {},
   "outputs": [
    {
     "name": "stdout",
     "output_type": "stream",
     "text": [
      "1.2832995192724184e-05\n"
     ]
    }
   ],
   "source": [
    "#daglig sikkerhedstillæg\n",
    "sikkerhedsDaglig = (1+i)**(1/372) - (1+i-sikkerhedsTillæg)**(1/372)\n",
    "print(sikkerhedsDaglig)"
   ]
  },
  {
   "cell_type": "code",
   "execution_count": 12,
   "metadata": {},
   "outputs": [
    {
     "name": "stdout",
     "output_type": "stream",
     "text": [
      "1088.9292524541506\n"
     ]
    }
   ],
   "source": [
    "# rente optjent uden fradrag af sikkerhedstillæg\n",
    "print(FørsteOrdenReserve*((1+r)**31-1))"
   ]
  },
  {
   "cell_type": "code",
   "execution_count": 13,
   "metadata": {},
   "outputs": [
    {
     "name": "stdout",
     "output_type": "stream",
     "text": [
      "106.35031286709601\n"
     ]
    }
   ],
   "source": [
    "# sikkerhedstillæg\n",
    "print(FørsteOrdenReserve*((1+sikkerhedsDaglig)**31-1))"
   ]
  },
  {
   "cell_type": "code",
   "execution_count": 14,
   "metadata": {},
   "outputs": [
    {
     "data": {
      "text/plain": [
       "0.00011833196147215119"
      ]
     },
     "execution_count": 14,
     "metadata": {},
     "output_type": "execute_result"
    }
   ],
   "source": [
    "# Effektiv rente\n",
    "effektivRente = (1+(i-sikkerhedsTillæg))**(1/372)-1\n",
    "effektivRente"
   ]
  },
  {
   "cell_type": "code",
   "execution_count": 15,
   "metadata": {},
   "outputs": [
    {
     "data": {
      "text/plain": [
       "268261.5742542813"
      ]
     },
     "execution_count": 15,
     "metadata": {},
     "output_type": "execute_result"
    }
   ],
   "source": [
    "# Ultimoreserve 2. orden\n",
    "FørsteOrdenReserve * ((1+effektivRente)**(31)-1) + FørsteOrdenReserve"
   ]
  },
  {
   "cell_type": "code",
   "execution_count": 16,
   "metadata": {},
   "outputs": [
    {
     "name": "stdout",
     "output_type": "stream",
     "text": [
      "982.2007542813251\n",
      "982.5789395870546\n"
     ]
    }
   ],
   "source": [
    "#sanity check\n",
    "print(FørsteOrdenReserve * ((1+effektivRente)**(31)-1))\n",
    "print(FørsteOrdenReserve*((1+r)**31-1)-FørsteOrdenReserve*((1+sikkerhedsDaglig)**31-1))"
   ]
  },
  {
   "cell_type": "code",
   "execution_count": null,
   "metadata": {},
   "outputs": [],
   "source": []
  }
 ],
 "metadata": {
  "kernelspec": {
   "display_name": "Python 3",
   "language": "python",
   "name": "python3"
  },
  "language_info": {
   "codemirror_mode": {
    "name": "ipython",
    "version": 3
   },
   "file_extension": ".py",
   "mimetype": "text/x-python",
   "name": "python",
   "nbconvert_exporter": "python",
   "pygments_lexer": "ipython3",
   "version": "3.8.5"
  }
 },
 "nbformat": 4,
 "nbformat_minor": 4
}
