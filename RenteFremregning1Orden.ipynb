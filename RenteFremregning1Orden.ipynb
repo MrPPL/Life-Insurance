{
 "cells": [
  {
   "cell_type": "markdown",
   "metadata": {},
   "source": [
    "# Regn rente på førsteorden\n",
    "Renteformel, hvor i er årlig rente og r er daglig rente:\\\n",
    "$$r=((1+i)^{\\frac{1}{372}}-1)$$\n",
    "OBS: Vi regner med 31 dage i hver måned."
   ]
  },
  {
   "cell_type": "code",
   "execution_count": 1,
   "metadata": {},
   "outputs": [],
   "source": [
    "#Parameter\n",
    "FørsteOrdenReserve = 267279.3735\n",
    "i=0.05\n",
    "sikkerhedsTillæg=0.005"
   ]
  },
  {
   "cell_type": "code",
   "execution_count": 2,
   "metadata": {},
   "outputs": [
    {
     "name": "stdout",
     "output_type": "stream",
     "text": [
      "0.00013116495666487538\n"
     ]
    }
   ],
   "source": [
    "#daglig rente\n",
    "r = ((1+i)**(1/372)-1)\n",
    "print(r)"
   ]
  },
  {
   "cell_type": "code",
   "execution_count": 3,
   "metadata": {},
   "outputs": [
    {
     "name": "stdout",
     "output_type": "stream",
     "text": [
      "1.2832995192724184e-05\n"
     ]
    }
   ],
   "source": [
    "#daglig sikkerhedstillæg\n",
    "sikkerhedsDaglig = (1+i)**(1/372) - (1+i-sikkerhedsTillæg)**(1/372)\n",
    "print(sikkerhedsDaglig)"
   ]
  },
  {
   "cell_type": "markdown",
   "metadata": {},
   "source": [
    "## Rente optjent\n",
    "Fremregne med den daglige rente 31 dage frem:\n",
    "$$F(31)=F(0)*((1+r)^{31}-1)$$\n",
    "F(t) er future value, hvor *t* er tid."
   ]
  },
  {
   "cell_type": "code",
   "execution_count": 10,
   "metadata": {},
   "outputs": [
    {
     "name": "stdout",
     "output_type": "stream",
     "text": [
      "4.9332078225947714e-117\n"
     ]
    }
   ],
   "source": [
    "print(FørsteOrdenReserve*((r-sikkerhedsDaglig)**31))"
   ]
  },
  {
   "cell_type": "code",
   "execution_count": 8,
   "metadata": {},
   "outputs": [
    {
     "name": "stdout",
     "output_type": "stream",
     "text": [
      "1088.9292524541506\n"
     ]
    }
   ],
   "source": [
    "# rente optjent uden fradrag af sikkerhedstillæg\n",
    "print(FørsteOrdenReserve*((1+r)**31-1))"
   ]
  },
  {
   "cell_type": "code",
   "execution_count": 7,
   "metadata": {},
   "outputs": [
    {
     "name": "stdout",
     "output_type": "stream",
     "text": [
      "106.35031286709601\n"
     ]
    }
   ],
   "source": [
    "# sikkerhedstillæg\n",
    "print(FørsteOrdenReserve*((1+sikkerhedsDaglig)**31-1))"
   ]
  },
  {
   "cell_type": "code",
   "execution_count": 6,
   "metadata": {},
   "outputs": [
    {
     "data": {
      "text/plain": [
       "0.00011833196147215119"
      ]
     },
     "execution_count": 6,
     "metadata": {},
     "output_type": "execute_result"
    }
   ],
   "source": [
    "# Effektiv rente\n",
    "effektivRente = (1+(i-sikkerhedsTillæg))**(1/372)-1\n",
    "effektivRente"
   ]
  },
  {
   "cell_type": "markdown",
   "metadata": {},
   "source": [
    "## Reserve efter tilskrivning af rente\n",
    "$Ultimo = primo + primo * ((1+effektivRente)^{31}-1)$"
   ]
  },
  {
   "cell_type": "code",
   "execution_count": 7,
   "metadata": {},
   "outputs": [
    {
     "data": {
      "text/plain": [
       "268261.5742542813"
      ]
     },
     "execution_count": 7,
     "metadata": {},
     "output_type": "execute_result"
    }
   ],
   "source": [
    "# Ultimoreserve 2. orden\n",
    "FørsteOrdenReserve * ((1+effektivRente)**(31)-1) + FørsteOrdenReserve"
   ]
  },
  {
   "cell_type": "code",
   "execution_count": 8,
   "metadata": {},
   "outputs": [
    {
     "name": "stdout",
     "output_type": "stream",
     "text": [
      "982.2007542813251\n",
      "982.5789395870546\n"
     ]
    }
   ],
   "source": [
    "#sanity check\n",
    "print(FørsteOrdenReserve * ((1+effektivRente)**(31)-1))\n",
    "print(FørsteOrdenReserve*((1+r)**31-1)-FørsteOrdenReserve*((1+sikkerhedsDaglig)**31-1))"
   ]
  },
  {
   "cell_type": "code",
   "execution_count": null,
   "metadata": {},
   "outputs": [],
   "source": []
  }
 ],
 "metadata": {
  "kernelspec": {
   "display_name": "Python 3",
   "language": "python",
   "name": "python3"
  },
  "language_info": {
   "codemirror_mode": {
    "name": "ipython",
    "version": 3
   },
   "file_extension": ".py",
   "mimetype": "text/x-python",
   "name": "python",
   "nbconvert_exporter": "python",
   "pygments_lexer": "ipython3",
   "version": "3.8.5"
  }
 },
 "nbformat": 4,
 "nbformat_minor": 4
}
